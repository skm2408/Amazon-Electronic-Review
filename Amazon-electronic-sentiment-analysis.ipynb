{
 "cells": [
  {
   "cell_type": "code",
   "execution_count": 27,
   "id": "899be68f",
   "metadata": {},
   "outputs": [],
   "source": [
    "import pandas as pd\n",
    "import numpy as np\n",
    "import matplotlib.pyplot as plt \n",
    "import seaborn as sns \n",
    "sns.set()"
   ]
  },
  {
   "cell_type": "code",
   "execution_count": 2,
   "id": "dea77589",
   "metadata": {},
   "outputs": [
    {
     "name": "stderr",
     "output_type": "stream",
     "text": [
      "/Users/shubham/opt/anaconda3/lib/python3.8/site-packages/IPython/core/interactiveshell.py:3437: DtypeWarning: Columns (5) have mixed types.Specify dtype option on import or set low_memory=False.\n",
      "  exec(code_obj, self.user_global_ns, self.user_ns)\n"
     ]
    }
   ],
   "source": [
    "data=pd.read_csv('Data/electronics.csv')"
   ]
  },
  {
   "cell_type": "code",
   "execution_count": 3,
   "id": "a7d935c1",
   "metadata": {},
   "outputs": [],
   "source": [
    "data=data.sample(50000).reset_index()"
   ]
  },
  {
   "cell_type": "code",
   "execution_count": 4,
   "id": "d86fccd8",
   "metadata": {},
   "outputs": [],
   "source": [
    "df = data.dropna()"
   ]
  },
  {
   "cell_type": "code",
   "execution_count": 5,
   "id": "5428f7b9",
   "metadata": {},
   "outputs": [
    {
     "name": "stderr",
     "output_type": "stream",
     "text": [
      "<ipython-input-5-3f883b47df69>:1: SettingWithCopyWarning: \n",
      "A value is trying to be set on a copy of a slice from a DataFrame.\n",
      "Try using .loc[row_indexer,col_indexer] = value instead\n",
      "\n",
      "See the caveats in the documentation: https://pandas.pydata.org/pandas-docs/stable/user_guide/indexing.html#returning-a-view-versus-a-copy\n",
      "  df['sentiments'] = df.overall.apply(lambda x: 0 if x in [1, 2, 3] else 1)\n"
     ]
    }
   ],
   "source": [
    "df['sentiments'] = df.overall.apply(lambda x: 0 if x in [1, 2, 3] else 1)"
   ]
  },
  {
   "cell_type": "code",
   "execution_count": 6,
   "id": "17c496ac",
   "metadata": {},
   "outputs": [
    {
     "data": {
      "text/html": [
       "<div>\n",
       "<style scoped>\n",
       "    .dataframe tbody tr th:only-of-type {\n",
       "        vertical-align: middle;\n",
       "    }\n",
       "\n",
       "    .dataframe tbody tr th {\n",
       "        vertical-align: top;\n",
       "    }\n",
       "\n",
       "    .dataframe thead th {\n",
       "        text-align: right;\n",
       "    }\n",
       "</style>\n",
       "<table border=\"1\" class=\"dataframe\">\n",
       "  <thead>\n",
       "    <tr style=\"text-align: right;\">\n",
       "      <th></th>\n",
       "      <th>index</th>\n",
       "      <th>overall</th>\n",
       "      <th>vote</th>\n",
       "      <th>verified</th>\n",
       "      <th>reviewTime</th>\n",
       "      <th>reviewText</th>\n",
       "      <th>summary</th>\n",
       "      <th>sentiments</th>\n",
       "    </tr>\n",
       "  </thead>\n",
       "  <tbody>\n",
       "    <tr>\n",
       "      <th>0</th>\n",
       "      <td>2568423</td>\n",
       "      <td>5</td>\n",
       "      <td>0</td>\n",
       "      <td>True</td>\n",
       "      <td>2017-07-29</td>\n",
       "      <td>Good packaging and worked very well.</td>\n",
       "      <td>Five Stars</td>\n",
       "      <td>1</td>\n",
       "    </tr>\n",
       "    <tr>\n",
       "      <th>1</th>\n",
       "      <td>2171368</td>\n",
       "      <td>3</td>\n",
       "      <td>0</td>\n",
       "      <td>True</td>\n",
       "      <td>2016-02-02</td>\n",
       "      <td>Not the length advertised</td>\n",
       "      <td>1454371200</td>\n",
       "      <td>0</td>\n",
       "    </tr>\n",
       "    <tr>\n",
       "      <th>2</th>\n",
       "      <td>970415</td>\n",
       "      <td>5</td>\n",
       "      <td>0</td>\n",
       "      <td>True</td>\n",
       "      <td>2012-02-07</td>\n",
       "      <td>Quality point-and-shoot</td>\n",
       "      <td>1328572800</td>\n",
       "      <td>1</td>\n",
       "    </tr>\n",
       "    <tr>\n",
       "      <th>3</th>\n",
       "      <td>1487831</td>\n",
       "      <td>5</td>\n",
       "      <td>0</td>\n",
       "      <td>True</td>\n",
       "      <td>2013-08-06</td>\n",
       "      <td>Pretty handy to have on hand.</td>\n",
       "      <td>1375747200</td>\n",
       "      <td>1</td>\n",
       "    </tr>\n",
       "    <tr>\n",
       "      <th>4</th>\n",
       "      <td>1722585</td>\n",
       "      <td>2</td>\n",
       "      <td>0</td>\n",
       "      <td>True</td>\n",
       "      <td>2012-06-16</td>\n",
       "      <td>I'll be honest, the reason I bought these was ...</td>\n",
       "      <td>Cool looks and that's about it</td>\n",
       "      <td>0</td>\n",
       "    </tr>\n",
       "    <tr>\n",
       "      <th>...</th>\n",
       "      <td>...</td>\n",
       "      <td>...</td>\n",
       "      <td>...</td>\n",
       "      <td>...</td>\n",
       "      <td>...</td>\n",
       "      <td>...</td>\n",
       "      <td>...</td>\n",
       "      <td>...</td>\n",
       "    </tr>\n",
       "    <tr>\n",
       "      <th>49995</th>\n",
       "      <td>1319965</td>\n",
       "      <td>4</td>\n",
       "      <td>0</td>\n",
       "      <td>True</td>\n",
       "      <td>2014-10-28</td>\n",
       "      <td>Always worked great &amp; gets rid of the buzz tha...</td>\n",
       "      <td>1414454400</td>\n",
       "      <td>1</td>\n",
       "    </tr>\n",
       "    <tr>\n",
       "      <th>49996</th>\n",
       "      <td>1163605</td>\n",
       "      <td>4</td>\n",
       "      <td>0</td>\n",
       "      <td>True</td>\n",
       "      <td>2013-09-20</td>\n",
       "      <td>darn good</td>\n",
       "      <td>1379635200</td>\n",
       "      <td>1</td>\n",
       "    </tr>\n",
       "    <tr>\n",
       "      <th>49997</th>\n",
       "      <td>1159497</td>\n",
       "      <td>5</td>\n",
       "      <td>0</td>\n",
       "      <td>True</td>\n",
       "      <td>2016-12-24</td>\n",
       "      <td>Light and Ergonomic Mouse</td>\n",
       "      <td>1482537600</td>\n",
       "      <td>1</td>\n",
       "    </tr>\n",
       "    <tr>\n",
       "      <th>49998</th>\n",
       "      <td>2749509</td>\n",
       "      <td>1</td>\n",
       "      <td>0</td>\n",
       "      <td>True</td>\n",
       "      <td>2013-06-05</td>\n",
       "      <td>I liked it for about two years then it quit wo...</td>\n",
       "      <td>Quit working</td>\n",
       "      <td>0</td>\n",
       "    </tr>\n",
       "    <tr>\n",
       "      <th>49999</th>\n",
       "      <td>1394824</td>\n",
       "      <td>5</td>\n",
       "      <td>0</td>\n",
       "      <td>True</td>\n",
       "      <td>2017-10-06</td>\n",
       "      <td>Five Stars</td>\n",
       "      <td>1507248000</td>\n",
       "      <td>1</td>\n",
       "    </tr>\n",
       "  </tbody>\n",
       "</table>\n",
       "<p>49983 rows × 8 columns</p>\n",
       "</div>"
      ],
      "text/plain": [
       "         index  overall  vote  verified  reviewTime  \\\n",
       "0      2568423        5     0      True  2017-07-29   \n",
       "1      2171368        3     0      True  2016-02-02   \n",
       "2       970415        5     0      True  2012-02-07   \n",
       "3      1487831        5     0      True  2013-08-06   \n",
       "4      1722585        2     0      True  2012-06-16   \n",
       "...        ...      ...   ...       ...         ...   \n",
       "49995  1319965        4     0      True  2014-10-28   \n",
       "49996  1163605        4     0      True  2013-09-20   \n",
       "49997  1159497        5     0      True  2016-12-24   \n",
       "49998  2749509        1     0      True  2013-06-05   \n",
       "49999  1394824        5     0      True  2017-10-06   \n",
       "\n",
       "                                              reviewText  \\\n",
       "0                   Good packaging and worked very well.   \n",
       "1                              Not the length advertised   \n",
       "2                                Quality point-and-shoot   \n",
       "3                          Pretty handy to have on hand.   \n",
       "4      I'll be honest, the reason I bought these was ...   \n",
       "...                                                  ...   \n",
       "49995  Always worked great & gets rid of the buzz tha...   \n",
       "49996                                          darn good   \n",
       "49997                          Light and Ergonomic Mouse   \n",
       "49998  I liked it for about two years then it quit wo...   \n",
       "49999                                         Five Stars   \n",
       "\n",
       "                              summary  sentiments  \n",
       "0                          Five Stars           1  \n",
       "1                          1454371200           0  \n",
       "2                          1328572800           1  \n",
       "3                          1375747200           1  \n",
       "4      Cool looks and that's about it           0  \n",
       "...                               ...         ...  \n",
       "49995                      1414454400           1  \n",
       "49996                      1379635200           1  \n",
       "49997                      1482537600           1  \n",
       "49998                    Quit working           0  \n",
       "49999                      1507248000           1  \n",
       "\n",
       "[49983 rows x 8 columns]"
      ]
     },
     "execution_count": 6,
     "metadata": {},
     "output_type": "execute_result"
    }
   ],
   "source": [
    "df"
   ]
  },
  {
   "cell_type": "code",
   "execution_count": 24,
   "id": "70e3c5ae",
   "metadata": {},
   "outputs": [
    {
     "name": "stdout",
     "output_type": "stream",
     "text": [
      "<class 'pandas.core.frame.DataFrame'>\n",
      "Int64Index: 49983 entries, 0 to 49999\n",
      "Data columns (total 8 columns):\n",
      " #   Column      Non-Null Count  Dtype \n",
      "---  ------      --------------  ----- \n",
      " 0   index       49983 non-null  int64 \n",
      " 1   overall     49983 non-null  int64 \n",
      " 2   vote        49983 non-null  int64 \n",
      " 3   verified    49983 non-null  bool  \n",
      " 4   reviewTime  49983 non-null  object\n",
      " 5   reviewText  49983 non-null  object\n",
      " 6   summary     49983 non-null  object\n",
      " 7   sentiments  49983 non-null  int64 \n",
      "dtypes: bool(1), int64(4), object(3)\n",
      "memory usage: 3.1+ MB\n"
     ]
    }
   ],
   "source": [
    "df.info()"
   ]
  },
  {
   "cell_type": "code",
   "execution_count": 25,
   "id": "7e581f1a",
   "metadata": {},
   "outputs": [],
   "source": [
    "rating_cnt = df.overall.value_counts()\n",
    "vote_cnt = df.vote.value_counts()"
   ]
  },
  {
   "cell_type": "code",
   "execution_count": 28,
   "id": "7f8d0e0a",
   "metadata": {},
   "outputs": [
    {
     "data": {
      "image/png": "[encoded data removed]",
      "text/plain": [
       "<Figure size 432x288 with 1 Axes>"
      ]
     },
     "metadata": {},
     "output_type": "display_data"
    }
   ],
   "source": [
    "sns.barplot(x=rating_cnt.index, y=rating_cnt/1_000_000)\n",
    "plt.title('Rating Distribution', fontsize=16)\n",
    "plt.ylabel('Count in Millions')\n",
    "plt.xlabel('Rating')\n",
    "plt.show()"
   ]
  },
  {
   "cell_type": "code",
   "execution_count": 29,
   "id": "b2a509da",
   "metadata": {},
   "outputs": [],
   "source": [
    "is_voted_value = np.array([vote_cnt[0], vote_cnt[1:].sum()])\n",
    "is_vote_label = ['Not Voted', 'Voted']"
   ]
  },
  {
   "cell_type": "code",
   "execution_count": 44,
   "id": "3d17cbb5",
   "metadata": {},
   "outputs": [
    {
     "data": {
      "image/png": "[encoded data removed]",
      "text/plain": [
       "<Figure size 432x288 with 1 Axes>"
      ]
     },
     "metadata": {},
     "output_type": "display_data"
    }
   ],
   "source": [
    "sns.barplot(x=is_vote_label, y=is_voted_value/1_000_000)\n",
    "plt.title('Helpful Votes', fontsize=16)\n",
    "plt.ylabel('Count in Millions')\n",
    "plt.show()"
   ]
  },
  {
   "cell_type": "code",
   "execution_count": null,
   "id": "70cfd021",
   "metadata": {},
   "outputs": [],
   "source": []
  },
  {
   "cell_type": "code",
   "execution_count": null,
   "id": "97e70565",
   "metadata": {},
   "outputs": [],
   "source": []
  },
  {
   "cell_type": "code",
   "execution_count": 7,
   "id": "9494e00c",
   "metadata": {},
   "outputs": [],
   "source": [
    "X = df['reviewText']\n",
    "y = df['sentiments']"
   ]
  },
  {
   "cell_type": "code",
   "execution_count": 8,
   "id": "31d5884b",
   "metadata": {},
   "outputs": [],
   "source": [
    "from sklearn.model_selection import train_test_split\n",
    "X_train, X_test, y_train, y_test = train_test_split(X, y, \n",
    "                                        test_size = 0.3, random_state=24)"
   ]
  },
  {
   "cell_type": "markdown",
   "id": "109b988b",
   "metadata": {},
   "source": [
    "# Using CountVectorizer"
   ]
  },
  {
   "cell_type": "markdown",
   "id": "0ea56e2f",
   "metadata": {},
   "source": [
    "## LogisticRegression"
   ]
  },
  {
   "cell_type": "code",
   "execution_count": 20,
   "id": "4e7d053c",
   "metadata": {},
   "outputs": [
    {
     "name": "stdout",
     "output_type": "stream",
     "text": [
      "Results for Logistic Regression with CountVectorizer\n",
      "0.8783594531510504\n",
      "1633 1260 564 11538\n",
      "0.9534 0.5645\n"
     ]
    },
    {
     "name": "stderr",
     "output_type": "stream",
     "text": [
      "/Users/shubham/opt/anaconda3/lib/python3.8/site-packages/sklearn/linear_model/_logistic.py:814: ConvergenceWarning: lbfgs failed to converge (status=1):\n",
      "STOP: TOTAL NO. of ITERATIONS REACHED LIMIT.\n",
      "\n",
      "Increase the number of iterations (max_iter) or scale the data as shown in:\n",
      "    https://scikit-learn.org/stable/modules/preprocessing.html\n",
      "Please also refer to the documentation for alternative solver options:\n",
      "    https://scikit-learn.org/stable/modules/linear_model.html#logistic-regression\n",
      "  n_iter_i = _check_optimize_result(\n"
     ]
    },
    {
     "data": {
      "text/plain": [
       "0.9267469879518072"
      ]
     },
     "execution_count": 20,
     "metadata": {},
     "output_type": "execute_result"
    }
   ],
   "source": [
    "\n",
    "from sklearn.feature_extraction.text import CountVectorizer\n",
    "cv = CountVectorizer()\n",
    "#Vectorizing the text data\n",
    "ctmTr = cv.fit_transform(X_train)\n",
    "X_test_dtm = cv.transform(X_test)\n",
    "from sklearn.linear_model import LogisticRegression\n",
    "#Training the model\n",
    "lr = LogisticRegression()\n",
    "lr.fit(ctmTr, y_train)\n",
    "lr_score = lr.score(X_test_dtm, y_test)\n",
    "#Accuracy score\n",
    "print(\"Results for Logistic Regression with CountVectorizer\")\n",
    "print(lr_score)\n",
    "#Predicting the labels for test data\n",
    "y_pred_lr = lr.predict(X_test_dtm)\n",
    "from sklearn.metrics import confusion_matrix\n",
    "#Confusion matrix\n",
    "cm_lr = confusion_matrix(y_test, y_pred_lr)\n",
    "tn, fp, fn, tp = confusion_matrix(y_test, y_pred_lr).ravel()\n",
    "print(tn, fp, fn, tp)\n",
    "#True positive and true negative rates\n",
    "tpr_lr = round(tp/(tp + fn), 4)\n",
    "tnr_lr = round(tn/(tn+fp), 4)\n",
    "print(tpr_lr, tnr_lr)\n",
    "from sklearn.metrics import f1_score\n",
    "f1_score(y_test, y_pred_lr)"
   ]
  },
  {
   "cell_type": "code",
   "execution_count": null,
   "id": "4a4fea1a",
   "metadata": {},
   "outputs": [],
   "source": []
  },
  {
   "cell_type": "code",
   "execution_count": null,
   "id": "a43e6657",
   "metadata": {},
   "outputs": [],
   "source": [
    "\n"
   ]
  },
  {
   "cell_type": "code",
   "execution_count": null,
   "id": "84796425",
   "metadata": {},
   "outputs": [],
   "source": []
  },
  {
   "cell_type": "code",
   "execution_count": null,
   "id": "3f6a4a5e",
   "metadata": {},
   "outputs": [],
   "source": []
  },
  {
   "cell_type": "code",
   "execution_count": null,
   "id": "eeb0d6fc",
   "metadata": {},
   "outputs": [],
   "source": []
  },
  {
   "cell_type": "markdown",
   "id": "c059cfe4",
   "metadata": {},
   "source": [
    "## SVM"
   ]
  },
  {
   "cell_type": "code",
   "execution_count": 10,
   "id": "77570e33",
   "metadata": {},
   "outputs": [
    {
     "name": "stdout",
     "output_type": "stream",
     "text": [
      "Results for Support Vector Machine with CountVectorizer\n",
      "0.858486162054018\n",
      "1049 1844 278 11824\n",
      "0.977 0.3626\n"
     ]
    }
   ],
   "source": [
    "# from sklearn.model_selection import train_test_split\n",
    "# X_train, X_test, y_train, y_test = train_test_split(X, y, \n",
    "#                                         test_size = 0.3, random_state=123)\n",
    "#Vectorizing the text data\n",
    "cv = CountVectorizer()\n",
    "ctmTr = cv.fit_transform(X_train)\n",
    "X_test_dtm = cv.transform(X_test)\n",
    "from sklearn import svm\n",
    "#Training the model\n",
    "svcl = svm.SVC()\n",
    "svcl.fit(ctmTr, y_train)\n",
    "svcl_score = svcl.score(X_test_dtm, y_test)\n",
    "print(\"Results for Support Vector Machine with CountVectorizer\")\n",
    "print(svcl_score)\n",
    "y_pred_sv = svcl.predict(X_test_dtm)\n",
    "#Confusion matrix\n",
    "cm_sv = confusion_matrix(y_test, y_pred_sv)\n",
    "tn, fp, fn, tp = confusion_matrix(y_test, y_pred_sv).ravel()\n",
    "print(tn, fp, fn, tp)\n",
    "tpr_sv = round(tp/(tp + fn), 4)\n",
    "tnr_sv = round(tn/(tn+fp), 4)\n",
    "print(tpr_sv, tnr_sv)"
   ]
  },
  {
   "cell_type": "code",
   "execution_count": 11,
   "id": "b9a48bd7",
   "metadata": {},
   "outputs": [
    {
     "data": {
      "text/plain": [
       "0.9176561893674815"
      ]
     },
     "execution_count": 11,
     "metadata": {},
     "output_type": "execute_result"
    }
   ],
   "source": [
    "from sklearn.metrics import f1_score\n",
    "f1_score(y_test, y_pred_sv)"
   ]
  },
  {
   "cell_type": "markdown",
   "id": "7b4caa24",
   "metadata": {},
   "source": [
    "## KNN"
   ]
  },
  {
   "cell_type": "code",
   "execution_count": 14,
   "id": "a5307485",
   "metadata": {},
   "outputs": [
    {
     "name": "stdout",
     "output_type": "stream",
     "text": [
      "Results for KNN Classifier with CountVectorizer\n",
      "0.8426142047349117\n",
      "937 1956 404 11698\n",
      "0.9666 0.3239\n"
     ]
    }
   ],
   "source": [
    "# from sklearn.model_selection import train_test_split\n",
    "# X_train, X_test, y_train, y_test = train_test_split(X, y, \n",
    "#                                         test_size = 0.3, random_state=65)\n",
    "cv = CountVectorizer()\n",
    "X_train_vec = cv.fit_transform(X_train)\n",
    "X_test_vec = cv.transform(X_test)\n",
    "from sklearn.neighbors import KNeighborsClassifier\n",
    "knn = KNeighborsClassifier(n_neighbors=5)\n",
    "knn.fit(X_train_vec, y_train)\n",
    "knn_score = knn.score(X_test_vec, y_test)\n",
    "print(\"Results for KNN Classifier with CountVectorizer\")\n",
    "print(knn_score)\n",
    "y_pred_knn = knn.predict(X_test_vec)\n",
    "#Confusion matrix\n",
    "cm_knn = confusion_matrix(y_test, y_pred_knn)\n",
    "tn, fp, fn, tp = confusion_matrix(y_test, y_pred_knn).ravel()\n",
    "print(tn, fp, fn, tp)\n",
    "tpr_knn = round(tp/(tp + fn), 4)\n",
    "tnr_knn = round(tn/(tn+fp), 4)\n",
    "print(tpr_knn, tnr_knn)"
   ]
  },
  {
   "cell_type": "code",
   "execution_count": 15,
   "id": "5dd66aed",
   "metadata": {},
   "outputs": [
    {
     "data": {
      "text/plain": [
       "0.9083708650411554"
      ]
     },
     "execution_count": 15,
     "metadata": {},
     "output_type": "execute_result"
    }
   ],
   "source": [
    "from sklearn.metrics import f1_score\n",
    "f1_score(y_test, y_pred_knn)"
   ]
  },
  {
   "cell_type": "markdown",
   "id": "7b576641",
   "metadata": {},
   "source": [
    "## Random Forest"
   ]
  },
  {
   "cell_type": "code",
   "execution_count": 17,
   "id": "8f2873af",
   "metadata": {},
   "outputs": [
    {
     "name": "stdout",
     "output_type": "stream",
     "text": [
      "Results for Random Forest Classifier with CountVectorizer\n",
      "0.8668889629876626\n",
      "1163 1730 266 11836\n",
      "0.978 0.402\n"
     ]
    }
   ],
   "source": [
    "cv = CountVectorizer()\n",
    "X_train_vec = cv.fit_transform(X_train)\n",
    "X_test_vec = cv.transform(X_test)\n",
    "from sklearn.ensemble import RandomForestClassifier\n",
    "rf = RandomForestClassifier()\n",
    "rf.fit(X_train_vec, y_train)\n",
    "rf_score = rf.score(X_test_vec, y_test)\n",
    "print(\"Results for Random Forest Classifier with CountVectorizer\")\n",
    "print(rf_score)\n",
    "y_pred_rf = rf.predict(X_test_vec)\n",
    "#Confusion matrix\n",
    "cm_rf = confusion_matrix(y_test, y_pred_rf)\n",
    "tn, fp, fn, tp = confusion_matrix(y_test, y_pred_rf).ravel()\n",
    "print(tn, fp, fn, tp)\n",
    "tpr_rf = round(tp/(tp + fn), 4)\n",
    "tnr_rf = round(tn/(tn+fp), 4)\n",
    "print(tpr_rf, tnr_rf)"
   ]
  },
  {
   "cell_type": "code",
   "execution_count": 18,
   "id": "85dbe7c7",
   "metadata": {},
   "outputs": [
    {
     "data": {
      "text/plain": [
       "0.9222378058282685"
      ]
     },
     "execution_count": 18,
     "metadata": {},
     "output_type": "execute_result"
    }
   ],
   "source": [
    "from sklearn.metrics import f1_score\n",
    "f1_score(y_test, y_pred_rf)"
   ]
  },
  {
   "cell_type": "markdown",
   "id": "ed37a26f",
   "metadata": {},
   "source": [
    "# TFIDF Vectorizer"
   ]
  },
  {
   "cell_type": "markdown",
   "id": "d160f00f",
   "metadata": {},
   "source": [
    "## Logistic Regression"
   ]
  },
  {
   "cell_type": "code",
   "execution_count": 19,
   "id": "4438f460",
   "metadata": {},
   "outputs": [
    {
     "name": "stdout",
     "output_type": "stream",
     "text": [
      "Results for Logistic Regression with CountVectorizer\n",
      "0.8814938312770924\n",
      "1499 1394 383 11719\n",
      "0.9684 0.5181\n"
     ]
    },
    {
     "data": {
      "text/plain": [
       "0.9295260757485624"
      ]
     },
     "execution_count": 19,
     "metadata": {},
     "output_type": "execute_result"
    }
   ],
   "source": [
    "from sklearn.feature_extraction.text import TfidfVectorizer\n",
    "vectorizer = TfidfVectorizer()\n",
    "X_train_vec = vectorizer.fit_transform(X_train)\n",
    "X_test_vec = vectorizer.transform(X_test)\n",
    "lr = LogisticRegression()\n",
    "lr.fit(X_train_vec, y_train)\n",
    "lr_score = lr.score(X_test_vec, y_test)\n",
    "#Accuracy score\n",
    "print(\"Results for Logistic Regression with CountVectorizer\")\n",
    "print(lr_score)\n",
    "#Predicting the labels for test data\n",
    "y_pred_lr = lr.predict(X_test_vec)\n",
    "from sklearn.metrics import confusion_matrix\n",
    "#Confusion matrix\n",
    "cm_lr = confusion_matrix(y_test, y_pred_lr)\n",
    "tn, fp, fn, tp = confusion_matrix(y_test, y_pred_lr).ravel()\n",
    "print(tn, fp, fn, tp)\n",
    "#True positive and true negative rates\n",
    "tpr_lr = round(tp/(tp + fn), 4)\n",
    "tnr_lr = round(tn/(tn+fp), 4)\n",
    "print(tpr_lr, tnr_lr)\n",
    "from sklearn.metrics import f1_score\n",
    "f1_score(y_test, y_pred_lr)"
   ]
  },
  {
   "cell_type": "markdown",
   "id": "b7874efb",
   "metadata": {},
   "source": [
    "## SVM"
   ]
  },
  {
   "cell_type": "code",
   "execution_count": 21,
   "id": "2333b99e",
   "metadata": {},
   "outputs": [
    {
     "name": "stdout",
     "output_type": "stream",
     "text": [
      "Results for Support Vector Machine with CountVectorizer\n",
      "0.8902967655885295\n",
      "1551 1342 303 11799\n",
      "0.975 0.5361\n"
     ]
    },
    {
     "data": {
      "text/plain": [
       "0.9348334191657093"
      ]
     },
     "execution_count": 21,
     "metadata": {},
     "output_type": "execute_result"
    }
   ],
   "source": [
    "vectorizer = TfidfVectorizer()\n",
    "X_train_vec = vectorizer.fit_transform(X_train)\n",
    "X_test_vec = vectorizer.transform(X_test)\n",
    "#Training the model\n",
    "svcl = svm.SVC()\n",
    "svcl.fit(X_train_vec, y_train)\n",
    "svcl_score = svcl.score(X_test_vec, y_test)\n",
    "print(\"Results for Support Vector Machine with CountVectorizer\")\n",
    "print(svcl_score)\n",
    "y_pred_sv = svcl.predict(X_test_vec)\n",
    "#Confusion matrix\n",
    "cm_sv = confusion_matrix(y_test, y_pred_sv)\n",
    "tn, fp, fn, tp = confusion_matrix(y_test, y_pred_sv).ravel()\n",
    "print(tn, fp, fn, tp)\n",
    "tpr_sv = round(tp/(tp + fn), 4)\n",
    "tnr_sv = round(tn/(tn+fp), 4)\n",
    "print(tpr_sv, tnr_sv)\n",
    "from sklearn.metrics import f1_score\n",
    "f1_score(y_test, y_pred_sv)"
   ]
  },
  {
   "cell_type": "markdown",
   "id": "14f36aff",
   "metadata": {},
   "source": [
    "## KNN"
   ]
  },
  {
   "cell_type": "code",
   "execution_count": 22,
   "id": "da4745b3",
   "metadata": {},
   "outputs": [
    {
     "name": "stdout",
     "output_type": "stream",
     "text": [
      "Results for KNN Classifier with CountVectorizer\n",
      "0.8385461820606869\n",
      "552 2341 80 12022\n",
      "0.9934 0.1908\n"
     ]
    },
    {
     "data": {
      "text/plain": [
       "0.9085206877007369"
      ]
     },
     "execution_count": 22,
     "metadata": {},
     "output_type": "execute_result"
    }
   ],
   "source": [
    "vectorizer = TfidfVectorizer()\n",
    "X_train_vec = vectorizer.fit_transform(X_train)\n",
    "X_test_vec = vectorizer.transform(X_test)\n",
    "knn = KNeighborsClassifier(n_neighbors=5)\n",
    "knn.fit(X_train_vec, y_train)\n",
    "knn_score = knn.score(X_test_vec, y_test)\n",
    "print(\"Results for KNN Classifier with CountVectorizer\")\n",
    "print(knn_score)\n",
    "y_pred_knn = knn.predict(X_test_vec)\n",
    "#Confusion matrix\n",
    "cm_knn = confusion_matrix(y_test, y_pred_knn)\n",
    "tn, fp, fn, tp = confusion_matrix(y_test, y_pred_knn).ravel()\n",
    "print(tn, fp, fn, tp)\n",
    "tpr_knn = round(tp/(tp + fn), 4)\n",
    "tnr_knn = round(tn/(tn+fp), 4)\n",
    "print(tpr_knn, tnr_knn)\n",
    "f1_score(y_test, y_pred_knn)"
   ]
  },
  {
   "cell_type": "markdown",
   "id": "3d59adf2",
   "metadata": {},
   "source": [
    "## Random Forest"
   ]
  },
  {
   "cell_type": "code",
   "execution_count": 47,
   "id": "2c463870",
   "metadata": {},
   "outputs": [
    {
     "name": "stdout",
     "output_type": "stream",
     "text": [
      "Results for Random Forest Classifier with CountVectorizer\n",
      "0.8692897632544181\n",
      "1114 1779 181 11921\n",
      "0.985 0.3851\n"
     ]
    },
    {
     "data": {
      "text/plain": [
       "0.9240368963646229"
      ]
     },
     "execution_count": 47,
     "metadata": {},
     "output_type": "execute_result"
    }
   ],
   "source": [
    "vectorizer = TfidfVectorizer()\n",
    "X_train_vec = vectorizer.fit_transform(X_train)\n",
    "X_test_vec = vectorizer.transform(X_test)\n",
    "rf = RandomForestClassifier()\n",
    "rf.fit(X_train_vec, y_train)\n",
    "rf_score = rf.score(X_test_vec, y_test)\n",
    "print(\"Results for Random Forest Classifier with CountVectorizer\")\n",
    "print(rf_score)\n",
    "y_pred_rf = rf.predict(X_test_vec)\n",
    "#Confusion matrix\n",
    "cm_rf = confusion_matrix(y_test, y_pred_rf)\n",
    "tn, fp, fn, tp = confusion_matrix(y_test, y_pred_rf).ravel()\n",
    "print(tn, fp, fn, tp)\n",
    "tpr_rf = round(tp/(tp + fn), 4)\n",
    "tnr_rf = round(tn/(tn+fp), 4)\n",
    "print(tpr_rf, tnr_rf)\n",
    "f1_score(y_test, y_pred_rf)"
   ]
  },
  {
   "cell_type": "code",
   "execution_count": null,
   "id": "5d2e235f",
   "metadata": {},
   "outputs": [],
   "source": []
  }
 ],
 "metadata": {
  "kernelspec": {
   "display_name": "Python 3",
   "language": "python",
   "name": "python3"
  },
  "language_info": {
   "codemirror_mode": {
    "name": "ipython",
    "version": 3
   },
   "file_extension": ".py",
   "mimetype": "text/x-python",
   "name": "python",
   "nbconvert_exporter": "python",
   "pygments_lexer": "ipython3",
   "version": "3.8.8"
  }
 },
 "nbformat": 4,
 "nbformat_minor": 5
}
